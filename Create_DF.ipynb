{
  "nbformat": 4,
  "nbformat_minor": 0,
  "metadata": {
    "colab": {
      "provenance": [],
      "authorship_tag": "ABX9TyPghpbUOb36gStE3jDncpBL",
      "include_colab_link": true
    },
    "kernelspec": {
      "name": "python3",
      "display_name": "Python 3"
    },
    "language_info": {
      "name": "python"
    }
  },
  "cells": [
    {
      "cell_type": "markdown",
      "metadata": {
        "id": "view-in-github",
        "colab_type": "text"
      },
      "source": [
        "<a href=\"https://colab.research.google.com/github/AniketP04/PySpark/blob/main/Create_DF.ipynb\" target=\"_parent\"><img src=\"https://colab.research.google.com/assets/colab-badge.svg\" alt=\"Open In Colab\"/></a>"
      ]
    },
    {
      "cell_type": "code",
      "source": [
        "! pip install pyspark"
      ],
      "metadata": {
        "colab": {
          "base_uri": "https://localhost:8080/"
        },
        "id": "FempCBDXF05P",
        "outputId": "fadc1457-186d-4817-ca6b-f83d538fe082"
      },
      "execution_count": 1,
      "outputs": [
        {
          "output_type": "stream",
          "name": "stdout",
          "text": [
            "Requirement already satisfied: pyspark in /usr/local/lib/python3.10/dist-packages (3.4.1)\n",
            "Requirement already satisfied: py4j==0.10.9.7 in /usr/local/lib/python3.10/dist-packages (from pyspark) (0.10.9.7)\n"
          ]
        }
      ]
    },
    {
      "cell_type": "code",
      "execution_count": 2,
      "metadata": {
        "id": "Svu5kAvDFLrV"
      },
      "outputs": [],
      "source": [
        "from pyspark.sql.types import *\n",
        "from pyspark.sql import *"
      ]
    },
    {
      "cell_type": "code",
      "source": [
        "spark= SparkSession.builder.appName('CreateDF').getOrCreate()"
      ],
      "metadata": {
        "id": "BvorQ2ByFbYP"
      },
      "execution_count": 3,
      "outputs": []
    },
    {
      "cell_type": "code",
      "source": [
        "spark"
      ],
      "metadata": {
        "colab": {
          "base_uri": "https://localhost:8080/",
          "height": 221
        },
        "id": "sR_64yNTKfQt",
        "outputId": "c31d83a1-1a4e-43ae-bd3b-5b1fa90ef85d"
      },
      "execution_count": 12,
      "outputs": [
        {
          "output_type": "execute_result",
          "data": {
            "text/plain": [
              "<pyspark.sql.session.SparkSession at 0x78525980d090>"
            ],
            "text/html": [
              "\n",
              "            <div>\n",
              "                <p><b>SparkSession - in-memory</b></p>\n",
              "                \n",
              "        <div>\n",
              "            <p><b>SparkContext</b></p>\n",
              "\n",
              "            <p><a href=\"http://4ee21bec4a68:4040\">Spark UI</a></p>\n",
              "\n",
              "            <dl>\n",
              "              <dt>Version</dt>\n",
              "                <dd><code>v3.4.1</code></dd>\n",
              "              <dt>Master</dt>\n",
              "                <dd><code>local[*]</code></dd>\n",
              "              <dt>AppName</dt>\n",
              "                <dd><code>CreateDF</code></dd>\n",
              "            </dl>\n",
              "        </div>\n",
              "        \n",
              "            </div>\n",
              "        "
            ]
          },
          "metadata": {},
          "execution_count": 12
        }
      ]
    },
    {
      "cell_type": "code",
      "source": [
        "mySchema= StructType([StructField('Id',IntegerType()),\n",
        "                      StructField('Name',StringType()),\n",
        "                      StructField('Location',StringType())])\n",
        "\n"
      ],
      "metadata": {
        "id": "kv-I0J9JGHc_"
      },
      "execution_count": 4,
      "outputs": []
    },
    {
      "cell_type": "code",
      "source": [
        "myData= [(1,'Aniket','Mumbai'),\n",
        "         (2,'Omkar','Hyderabad'),\n",
        "         (3,'Krishna','Chandigarh')]"
      ],
      "metadata": {
        "id": "l3597CmwG0pp"
      },
      "execution_count": 5,
      "outputs": []
    },
    {
      "cell_type": "code",
      "source": [
        "df1= spark.createDataFrame(data=myData, schema= mySchema)"
      ],
      "metadata": {
        "id": "El34xGDaHHLC"
      },
      "execution_count": 6,
      "outputs": []
    },
    {
      "cell_type": "code",
      "source": [
        "type(df1)"
      ],
      "metadata": {
        "colab": {
          "base_uri": "https://localhost:8080/"
        },
        "id": "YOz8zsEwJZY-",
        "outputId": "9d73a7ae-65fd-4037-ccbe-ae6c4a8c73ef"
      },
      "execution_count": 7,
      "outputs": [
        {
          "output_type": "execute_result",
          "data": {
            "text/plain": [
              "pyspark.sql.dataframe.DataFrame"
            ]
          },
          "metadata": {},
          "execution_count": 7
        }
      ]
    },
    {
      "cell_type": "code",
      "source": [
        "df1.dtypes"
      ],
      "metadata": {
        "colab": {
          "base_uri": "https://localhost:8080/"
        },
        "id": "o-JCL-y0JskP",
        "outputId": "78b6d90d-d316-4456-b9b1-82163aae0d83"
      },
      "execution_count": 8,
      "outputs": [
        {
          "output_type": "execute_result",
          "data": {
            "text/plain": [
              "[('Id', 'int'), ('Name', 'string'), ('Location', 'string')]"
            ]
          },
          "metadata": {},
          "execution_count": 8
        }
      ]
    },
    {
      "cell_type": "code",
      "source": [
        "df1.show()"
      ],
      "metadata": {
        "colab": {
          "base_uri": "https://localhost:8080/"
        },
        "id": "D23Rs-1THQU5",
        "outputId": "827c6a0d-74ac-4e2a-d18e-36dd0f341e00"
      },
      "execution_count": 9,
      "outputs": [
        {
          "output_type": "stream",
          "name": "stdout",
          "text": [
            "+---+-------+----------+\n",
            "| Id|   Name|  Location|\n",
            "+---+-------+----------+\n",
            "|  1| Aniket|    Mumbai|\n",
            "|  2|  Omkar| Hyderabad|\n",
            "|  3|Krishna|Chandigarh|\n",
            "+---+-------+----------+\n",
            "\n"
          ]
        }
      ]
    },
    {
      "cell_type": "code",
      "source": [
        "mySchema= ['Id','Name','Location']\n",
        "\n",
        "myData= [(1,'Aniket','Mumbai'),\n",
        "         (2,'Omkar','Hyderabad'),\n",
        "         (3,'Krishna','Chandigarh')]\n",
        "\n",
        "df2= spark.createDataFrame(myData,mySchema)\n",
        "\n",
        "\n",
        "df2.show()\n"
      ],
      "metadata": {
        "colab": {
          "base_uri": "https://localhost:8080/"
        },
        "id": "7CRrHe8YHRfI",
        "outputId": "7e0f498f-afed-4ce8-bddf-ad81286d6336"
      },
      "execution_count": 10,
      "outputs": [
        {
          "output_type": "stream",
          "name": "stdout",
          "text": [
            "+---+-------+----------+\n",
            "| Id|   Name|  Location|\n",
            "+---+-------+----------+\n",
            "|  1| Aniket|    Mumbai|\n",
            "|  2|  Omkar| Hyderabad|\n",
            "|  3|Krishna|Chandigarh|\n",
            "+---+-------+----------+\n",
            "\n"
          ]
        }
      ]
    },
    {
      "cell_type": "code",
      "source": [
        "data= [{'Id':1, 'Name':'Aniket','Location':'Mumbai'},\n",
        "       {'Id':2, 'Name':'Omkar', 'Location':'Hyderabad'}]\n",
        "\n",
        "df3= spark.createDataFrame(data)\n",
        "\n",
        "\n",
        "df3.show()"
      ],
      "metadata": {
        "colab": {
          "base_uri": "https://localhost:8080/"
        },
        "id": "Z8LVkoqsH1ok",
        "outputId": "2eb0e9aa-d6ea-4388-89b0-e31811805bfb"
      },
      "execution_count": 11,
      "outputs": [
        {
          "output_type": "stream",
          "name": "stdout",
          "text": [
            "+---+---------+------+\n",
            "| Id| Location|  Name|\n",
            "+---+---------+------+\n",
            "|  1|   Mumbai|Aniket|\n",
            "|  2|Hyderabad| Omkar|\n",
            "+---+---------+------+\n",
            "\n"
          ]
        }
      ]
    }
  ]
}