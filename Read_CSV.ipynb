{
  "nbformat": 4,
  "nbformat_minor": 0,
  "metadata": {
    "colab": {
      "provenance": [],
      "authorship_tag": "ABX9TyNEfoQOU+A6H01wNQieMrgR",
      "include_colab_link": true
    },
    "kernelspec": {
      "name": "python3",
      "display_name": "Python 3"
    },
    "language_info": {
      "name": "python"
    }
  },
  "cells": [
    {
      "cell_type": "markdown",
      "metadata": {
        "id": "view-in-github",
        "colab_type": "text"
      },
      "source": [
        "<a href=\"https://colab.research.google.com/github/AniketP04/PySpark/blob/main/Read_CSV.ipynb\" target=\"_parent\"><img src=\"https://colab.research.google.com/assets/colab-badge.svg\" alt=\"Open In Colab\"/></a>"
      ]
    },
    {
      "cell_type": "code",
      "source": [
        "! pip install pyspark"
      ],
      "metadata": {
        "colab": {
          "base_uri": "https://localhost:8080/"
        },
        "id": "qwtKfh4vNhI0",
        "outputId": "9e508f03-9a70-47c0-bf15-0f3ac80bac28"
      },
      "execution_count": 1,
      "outputs": [
        {
          "output_type": "stream",
          "name": "stdout",
          "text": [
            "Requirement already satisfied: pyspark in /usr/local/lib/python3.10/dist-packages (3.4.1)\n",
            "Requirement already satisfied: py4j==0.10.9.7 in /usr/local/lib/python3.10/dist-packages (from pyspark) (0.10.9.7)\n"
          ]
        }
      ]
    },
    {
      "cell_type": "code",
      "execution_count": 2,
      "metadata": {
        "id": "ezMDkx43NQlB"
      },
      "outputs": [],
      "source": [
        "from pyspark.sql import SparkSession"
      ]
    },
    {
      "cell_type": "code",
      "source": [
        "spark = SparkSession.Builder().appName(\"Myapp\").master('local').getOrCreate()"
      ],
      "metadata": {
        "id": "_wILCdvvNgMi"
      },
      "execution_count": 3,
      "outputs": []
    },
    {
      "cell_type": "code",
      "source": [
        "spark"
      ],
      "metadata": {
        "colab": {
          "base_uri": "https://localhost:8080/",
          "height": 221
        },
        "id": "Q80seFIONneb",
        "outputId": "d95d6db9-9f7e-4e84-df49-c318dfbfe403"
      },
      "execution_count": 4,
      "outputs": [
        {
          "output_type": "execute_result",
          "data": {
            "text/plain": [
              "<pyspark.sql.session.SparkSession at 0x7c70800e92a0>"
            ],
            "text/html": [
              "\n",
              "            <div>\n",
              "                <p><b>SparkSession - in-memory</b></p>\n",
              "                \n",
              "        <div>\n",
              "            <p><b>SparkContext</b></p>\n",
              "\n",
              "            <p><a href=\"http://faa94e576646:4040\">Spark UI</a></p>\n",
              "\n",
              "            <dl>\n",
              "              <dt>Version</dt>\n",
              "                <dd><code>v3.4.1</code></dd>\n",
              "              <dt>Master</dt>\n",
              "                <dd><code>local</code></dd>\n",
              "              <dt>AppName</dt>\n",
              "                <dd><code>Myapp</code></dd>\n",
              "            </dl>\n",
              "        </div>\n",
              "        \n",
              "            </div>\n",
              "        "
            ]
          },
          "metadata": {},
          "execution_count": 4
        }
      ]
    },
    {
      "cell_type": "code",
      "source": [
        "df_pyspark = spark.read.csv(\"/content/Advertisement.csv\")\n",
        "df_pyspark"
      ],
      "metadata": {
        "colab": {
          "base_uri": "https://localhost:8080/"
        },
        "id": "lunF_sFcNpgT",
        "outputId": "c3b8c46e-b490-4659-8d3e-19c5e1373bb8"
      },
      "execution_count": 5,
      "outputs": [
        {
          "output_type": "execute_result",
          "data": {
            "text/plain": [
              "DataFrame[_c0: string, _c1: string, _c2: string, _c3: string]"
            ]
          },
          "metadata": {},
          "execution_count": 5
        }
      ]
    },
    {
      "cell_type": "code",
      "source": [
        "df_pyspark.show()"
      ],
      "metadata": {
        "colab": {
          "base_uri": "https://localhost:8080/"
        },
        "id": "BujD4sjCN5aS",
        "outputId": "ec58649f-7918-4913-b5a6-3b0c006a5b50"
      },
      "execution_count": 6,
      "outputs": [
        {
          "output_type": "stream",
          "name": "stdout",
          "text": [
            "+---+-----+---------+-----+\n",
            "|_c0|  _c1|      _c2|  _c3|\n",
            "+---+-----+---------+-----+\n",
            "| TV|radio|newspaper|sales|\n",
            "|  1|230.1|     37.8| 69.2|\n",
            "|  2| 44.5|     39.3| 45.1|\n",
            "|  3| 17.2|     45.9| 69.3|\n",
            "|  4|151.5|     41.3| 58.5|\n",
            "|  5|180.8|     10.8| 58.4|\n",
            "|  6|  8.7|     48.9|   75|\n",
            "|  7| 57.5|     32.8| 23.5|\n",
            "|  8|120.2|     19.6| 11.6|\n",
            "|  9|  8.6|      2.1|    1|\n",
            "| 10|199.8|      2.6| 21.2|\n",
            "| 11| 66.1|      5.8| 24.2|\n",
            "| 12|214.7|       24|    4|\n",
            "| 13| 23.8|     35.1| 65.9|\n",
            "| 14| 97.5|      7.6|  7.2|\n",
            "| 15|204.1|     32.9|   46|\n",
            "| 16|195.4|     47.7| 52.9|\n",
            "| 17| 67.8|     36.6|  114|\n",
            "| 18|281.4|     39.6| 55.8|\n",
            "| 19| 69.2|     20.5| 18.3|\n",
            "+---+-----+---------+-----+\n",
            "only showing top 20 rows\n",
            "\n"
          ]
        }
      ]
    },
    {
      "cell_type": "code",
      "source": [
        "df_pyspark2 = spark.read.option('header','true').csv(\"/content/Advertisement.csv\")\n",
        "df_pyspark2\n"
      ],
      "metadata": {
        "colab": {
          "base_uri": "https://localhost:8080/"
        },
        "id": "7q9m38fqN5W4",
        "outputId": "3b34d59a-98f7-46e1-e5dc-31cf352cb415"
      },
      "execution_count": 7,
      "outputs": [
        {
          "output_type": "execute_result",
          "data": {
            "text/plain": [
              "DataFrame[TV: string, radio: string, newspaper: string, sales: string]"
            ]
          },
          "metadata": {},
          "execution_count": 7
        }
      ]
    },
    {
      "cell_type": "code",
      "source": [
        "df_pyspark2.show()"
      ],
      "metadata": {
        "colab": {
          "base_uri": "https://localhost:8080/"
        },
        "id": "Rf8hPQWLN5TX",
        "outputId": "47f2ecf6-eca7-4f00-bf2a-44c767ebe7d9"
      },
      "execution_count": 8,
      "outputs": [
        {
          "output_type": "stream",
          "name": "stdout",
          "text": [
            "+---+-----+---------+-----+\n",
            "| TV|radio|newspaper|sales|\n",
            "+---+-----+---------+-----+\n",
            "|  1|230.1|     37.8| 69.2|\n",
            "|  2| 44.5|     39.3| 45.1|\n",
            "|  3| 17.2|     45.9| 69.3|\n",
            "|  4|151.5|     41.3| 58.5|\n",
            "|  5|180.8|     10.8| 58.4|\n",
            "|  6|  8.7|     48.9|   75|\n",
            "|  7| 57.5|     32.8| 23.5|\n",
            "|  8|120.2|     19.6| 11.6|\n",
            "|  9|  8.6|      2.1|    1|\n",
            "| 10|199.8|      2.6| 21.2|\n",
            "| 11| 66.1|      5.8| 24.2|\n",
            "| 12|214.7|       24|    4|\n",
            "| 13| 23.8|     35.1| 65.9|\n",
            "| 14| 97.5|      7.6|  7.2|\n",
            "| 15|204.1|     32.9|   46|\n",
            "| 16|195.4|     47.7| 52.9|\n",
            "| 17| 67.8|     36.6|  114|\n",
            "| 18|281.4|     39.6| 55.8|\n",
            "| 19| 69.2|     20.5| 18.3|\n",
            "| 20|147.3|     23.9| 19.1|\n",
            "+---+-----+---------+-----+\n",
            "only showing top 20 rows\n",
            "\n"
          ]
        }
      ]
    },
    {
      "cell_type": "code",
      "source": [
        "df_pyspark2.printSchema()"
      ],
      "metadata": {
        "colab": {
          "base_uri": "https://localhost:8080/"
        },
        "id": "QQ3TrlSgN5QP",
        "outputId": "b62f3de3-0f85-4766-c5c1-f2bd009493c7"
      },
      "execution_count": 9,
      "outputs": [
        {
          "output_type": "stream",
          "name": "stdout",
          "text": [
            "root\n",
            " |-- TV: string (nullable = true)\n",
            " |-- radio: string (nullable = true)\n",
            " |-- newspaper: string (nullable = true)\n",
            " |-- sales: string (nullable = true)\n",
            "\n"
          ]
        }
      ]
    },
    {
      "cell_type": "code",
      "source": [
        "df_pyspark2 = spark.read.option('header','true').csv(\"/content/Advertisement.csv\",inferSchema=True)\n"
      ],
      "metadata": {
        "id": "A9sGl4NLN5NK"
      },
      "execution_count": 10,
      "outputs": []
    },
    {
      "cell_type": "code",
      "source": [
        "df_pyspark2.printSchema()"
      ],
      "metadata": {
        "colab": {
          "base_uri": "https://localhost:8080/"
        },
        "id": "1CFuvCanO4il",
        "outputId": "d9a9bf46-eeef-464a-babb-0c111e01d1ee"
      },
      "execution_count": 11,
      "outputs": [
        {
          "output_type": "stream",
          "name": "stdout",
          "text": [
            "root\n",
            " |-- TV: integer (nullable = true)\n",
            " |-- radio: double (nullable = true)\n",
            " |-- newspaper: double (nullable = true)\n",
            " |-- sales: double (nullable = true)\n",
            "\n"
          ]
        }
      ]
    },
    {
      "cell_type": "code",
      "source": [
        "df_pyspark2.select(['TV','radio']).show()"
      ],
      "metadata": {
        "colab": {
          "base_uri": "https://localhost:8080/"
        },
        "id": "tfoKCHC1O8UQ",
        "outputId": "b37df274-2ce5-4c35-e8f3-5b9f13945b89"
      },
      "execution_count": 12,
      "outputs": [
        {
          "output_type": "stream",
          "name": "stdout",
          "text": [
            "+---+-----+\n",
            "| TV|radio|\n",
            "+---+-----+\n",
            "|  1|230.1|\n",
            "|  2| 44.5|\n",
            "|  3| 17.2|\n",
            "|  4|151.5|\n",
            "|  5|180.8|\n",
            "|  6|  8.7|\n",
            "|  7| 57.5|\n",
            "|  8|120.2|\n",
            "|  9|  8.6|\n",
            "| 10|199.8|\n",
            "| 11| 66.1|\n",
            "| 12|214.7|\n",
            "| 13| 23.8|\n",
            "| 14| 97.5|\n",
            "| 15|204.1|\n",
            "| 16|195.4|\n",
            "| 17| 67.8|\n",
            "| 18|281.4|\n",
            "| 19| 69.2|\n",
            "| 20|147.3|\n",
            "+---+-----+\n",
            "only showing top 20 rows\n",
            "\n"
          ]
        }
      ]
    },
    {
      "cell_type": "code",
      "source": [
        "df_pyspark2.describe().show()"
      ],
      "metadata": {
        "colab": {
          "base_uri": "https://localhost:8080/"
        },
        "id": "vB0Eczu-PAeO",
        "outputId": "a3ebc7b4-2812-4689-e435-1915b6f42665"
      },
      "execution_count": 13,
      "outputs": [
        {
          "output_type": "stream",
          "name": "stdout",
          "text": [
            "+-------+------------------+-----------------+------------------+------------------+\n",
            "|summary|                TV|            radio|         newspaper|             sales|\n",
            "+-------+------------------+-----------------+------------------+------------------+\n",
            "|  count|               200|              200|               200|               200|\n",
            "|   mean|             100.5|         147.0425|23.264000000000024|30.553999999999995|\n",
            "| stddev|57.879184513951124|85.85423631490805|14.846809176168728| 21.77862083852283|\n",
            "|    min|                 1|              0.7|               0.0|               0.3|\n",
            "|    max|               200|            296.4|              49.6|             114.0|\n",
            "+-------+------------------+-----------------+------------------+------------------+\n",
            "\n"
          ]
        }
      ]
    },
    {
      "cell_type": "code",
      "source": [
        "\n",
        "newdf = df_pyspark2.withColumn(\"super sales\",df_pyspark2['sales']*2).show()"
      ],
      "metadata": {
        "colab": {
          "base_uri": "https://localhost:8080/"
        },
        "id": "4deK15gnPJDO",
        "outputId": "d99f69d8-4c3c-482b-ca43-9b620ed8112f"
      },
      "execution_count": 14,
      "outputs": [
        {
          "output_type": "stream",
          "name": "stdout",
          "text": [
            "+---+-----+---------+-----+-----------+\n",
            "| TV|radio|newspaper|sales|super sales|\n",
            "+---+-----+---------+-----+-----------+\n",
            "|  1|230.1|     37.8| 69.2|      138.4|\n",
            "|  2| 44.5|     39.3| 45.1|       90.2|\n",
            "|  3| 17.2|     45.9| 69.3|      138.6|\n",
            "|  4|151.5|     41.3| 58.5|      117.0|\n",
            "|  5|180.8|     10.8| 58.4|      116.8|\n",
            "|  6|  8.7|     48.9| 75.0|      150.0|\n",
            "|  7| 57.5|     32.8| 23.5|       47.0|\n",
            "|  8|120.2|     19.6| 11.6|       23.2|\n",
            "|  9|  8.6|      2.1|  1.0|        2.0|\n",
            "| 10|199.8|      2.6| 21.2|       42.4|\n",
            "| 11| 66.1|      5.8| 24.2|       48.4|\n",
            "| 12|214.7|     24.0|  4.0|        8.0|\n",
            "| 13| 23.8|     35.1| 65.9|      131.8|\n",
            "| 14| 97.5|      7.6|  7.2|       14.4|\n",
            "| 15|204.1|     32.9| 46.0|       92.0|\n",
            "| 16|195.4|     47.7| 52.9|      105.8|\n",
            "| 17| 67.8|     36.6|114.0|      228.0|\n",
            "| 18|281.4|     39.6| 55.8|      111.6|\n",
            "| 19| 69.2|     20.5| 18.3|       36.6|\n",
            "| 20|147.3|     23.9| 19.1|       38.2|\n",
            "+---+-----+---------+-----+-----------+\n",
            "only showing top 20 rows\n",
            "\n"
          ]
        }
      ]
    },
    {
      "cell_type": "code",
      "source": [
        "df_pyspark2.drop('sales').show()"
      ],
      "metadata": {
        "colab": {
          "base_uri": "https://localhost:8080/"
        },
        "id": "Fz1WNM92PObK",
        "outputId": "f7093510-61be-485e-ef7f-155b296b2054"
      },
      "execution_count": 15,
      "outputs": [
        {
          "output_type": "stream",
          "name": "stdout",
          "text": [
            "+---+-----+---------+\n",
            "| TV|radio|newspaper|\n",
            "+---+-----+---------+\n",
            "|  1|230.1|     37.8|\n",
            "|  2| 44.5|     39.3|\n",
            "|  3| 17.2|     45.9|\n",
            "|  4|151.5|     41.3|\n",
            "|  5|180.8|     10.8|\n",
            "|  6|  8.7|     48.9|\n",
            "|  7| 57.5|     32.8|\n",
            "|  8|120.2|     19.6|\n",
            "|  9|  8.6|      2.1|\n",
            "| 10|199.8|      2.6|\n",
            "| 11| 66.1|      5.8|\n",
            "| 12|214.7|     24.0|\n",
            "| 13| 23.8|     35.1|\n",
            "| 14| 97.5|      7.6|\n",
            "| 15|204.1|     32.9|\n",
            "| 16|195.4|     47.7|\n",
            "| 17| 67.8|     36.6|\n",
            "| 18|281.4|     39.6|\n",
            "| 19| 69.2|     20.5|\n",
            "| 20|147.3|     23.9|\n",
            "+---+-----+---------+\n",
            "only showing top 20 rows\n",
            "\n"
          ]
        }
      ]
    },
    {
      "cell_type": "code",
      "source": [
        "df_pyspark2.withColumnRenamed('TV','My TV').show()"
      ],
      "metadata": {
        "colab": {
          "base_uri": "https://localhost:8080/"
        },
        "id": "v9Ut6T7gPRaE",
        "outputId": "1cce9248-fa70-4216-d95e-92083bd3b6d9"
      },
      "execution_count": 16,
      "outputs": [
        {
          "output_type": "stream",
          "name": "stdout",
          "text": [
            "+-----+-----+---------+-----+\n",
            "|My TV|radio|newspaper|sales|\n",
            "+-----+-----+---------+-----+\n",
            "|    1|230.1|     37.8| 69.2|\n",
            "|    2| 44.5|     39.3| 45.1|\n",
            "|    3| 17.2|     45.9| 69.3|\n",
            "|    4|151.5|     41.3| 58.5|\n",
            "|    5|180.8|     10.8| 58.4|\n",
            "|    6|  8.7|     48.9| 75.0|\n",
            "|    7| 57.5|     32.8| 23.5|\n",
            "|    8|120.2|     19.6| 11.6|\n",
            "|    9|  8.6|      2.1|  1.0|\n",
            "|   10|199.8|      2.6| 21.2|\n",
            "|   11| 66.1|      5.8| 24.2|\n",
            "|   12|214.7|     24.0|  4.0|\n",
            "|   13| 23.8|     35.1| 65.9|\n",
            "|   14| 97.5|      7.6|  7.2|\n",
            "|   15|204.1|     32.9| 46.0|\n",
            "|   16|195.4|     47.7| 52.9|\n",
            "|   17| 67.8|     36.6|114.0|\n",
            "|   18|281.4|     39.6| 55.8|\n",
            "|   19| 69.2|     20.5| 18.3|\n",
            "|   20|147.3|     23.9| 19.1|\n",
            "+-----+-----+---------+-----+\n",
            "only showing top 20 rows\n",
            "\n"
          ]
        }
      ]
    },
    {
      "cell_type": "markdown",
      "source": [
        "**pyspark handling missing values**"
      ],
      "metadata": {
        "id": "e_D2nx4TPjLQ"
      }
    },
    {
      "cell_type": "code",
      "source": [
        "newdf = spark.read.option('header','true').csv(\"/content/New_set.csv\",inferSchema=True)"
      ],
      "metadata": {
        "id": "e-cxvU_iPTxM"
      },
      "execution_count": 17,
      "outputs": []
    },
    {
      "cell_type": "code",
      "source": [
        "newdf.show()"
      ],
      "metadata": {
        "colab": {
          "base_uri": "https://localhost:8080/"
        },
        "id": "XV93WM3xPpzD",
        "outputId": "01dd567d-c8b2-4876-de44-0d5f04a1a7d0"
      },
      "execution_count": 18,
      "outputs": [
        {
          "output_type": "stream",
          "name": "stdout",
          "text": [
            "+---------+----+------+------------------+\n",
            "|     City| Age|Salary|Eligible for Bonus|\n",
            "+---------+----+------+------------------+\n",
            "|   Mumbai|  27| 51000|               Yes|\n",
            "|   Mumbai|  30| 52000|                No|\n",
            "|  Newyork|  27| 48000|               Yes|\n",
            "|  Newyork|  29| 66000|                No|\n",
            "|    Tokyo|  48|  null|               Yes|\n",
            "|Singapore|  33| 69000|                No|\n",
            "|  Newyork|null| 79000|               Yes|\n",
            "|   Mumbai|  38|  null|               Yes|\n",
            "|Singapore|  35| 38000|                No|\n",
            "|    Tokyo|null| 56000|                No|\n",
            "|Singapore|  35| 72000|               Yes|\n",
            "|   Mumbai|  31| 65000|               Yes|\n",
            "|Singapore|  37| 49000|                No|\n",
            "+---------+----+------+------------------+\n",
            "\n"
          ]
        }
      ]
    },
    {
      "cell_type": "markdown",
      "source": [
        "**If didn't provide anything in the drop function, all of the rows with null values would be deleted.**"
      ],
      "metadata": {
        "id": "Oo8yjyxAQBIk"
      }
    },
    {
      "cell_type": "code",
      "source": [
        "newdf.na.drop().show()\n"
      ],
      "metadata": {
        "colab": {
          "base_uri": "https://localhost:8080/"
        },
        "id": "DDh0g5y2PrcO",
        "outputId": "9a4a6597-bbba-4319-fc46-a73fb7b596ff"
      },
      "execution_count": 19,
      "outputs": [
        {
          "output_type": "stream",
          "name": "stdout",
          "text": [
            "+---------+---+------+------------------+\n",
            "|     City|Age|Salary|Eligible for Bonus|\n",
            "+---------+---+------+------------------+\n",
            "|   Mumbai| 27| 51000|               Yes|\n",
            "|   Mumbai| 30| 52000|                No|\n",
            "|  Newyork| 27| 48000|               Yes|\n",
            "|  Newyork| 29| 66000|                No|\n",
            "|Singapore| 33| 69000|                No|\n",
            "|Singapore| 35| 38000|                No|\n",
            "|Singapore| 35| 72000|               Yes|\n",
            "|   Mumbai| 31| 65000|               Yes|\n",
            "|Singapore| 37| 49000|                No|\n",
            "+---------+---+------+------------------+\n",
            "\n"
          ]
        }
      ]
    },
    {
      "cell_type": "markdown",
      "source": [
        "Considering that there are no rows with only null values, nothing will be deleted."
      ],
      "metadata": {
        "id": "FmQB0xGwQJbt"
      }
    },
    {
      "cell_type": "code",
      "source": [
        "newdf.na.drop(how='all').show()"
      ],
      "metadata": {
        "colab": {
          "base_uri": "https://localhost:8080/"
        },
        "id": "1c2P4wzsPuUh",
        "outputId": "6c543482-d91c-4c06-f3f4-c808113a509a"
      },
      "execution_count": 20,
      "outputs": [
        {
          "output_type": "stream",
          "name": "stdout",
          "text": [
            "+---------+----+------+------------------+\n",
            "|     City| Age|Salary|Eligible for Bonus|\n",
            "+---------+----+------+------------------+\n",
            "|   Mumbai|  27| 51000|               Yes|\n",
            "|   Mumbai|  30| 52000|                No|\n",
            "|  Newyork|  27| 48000|               Yes|\n",
            "|  Newyork|  29| 66000|                No|\n",
            "|    Tokyo|  48|  null|               Yes|\n",
            "|Singapore|  33| 69000|                No|\n",
            "|  Newyork|null| 79000|               Yes|\n",
            "|   Mumbai|  38|  null|               Yes|\n",
            "|Singapore|  35| 38000|                No|\n",
            "|    Tokyo|null| 56000|                No|\n",
            "|Singapore|  35| 72000|               Yes|\n",
            "|   Mumbai|  31| 65000|               Yes|\n",
            "|Singapore|  37| 49000|                No|\n",
            "+---------+----+------+------------------+\n",
            "\n"
          ]
        }
      ]
    },
    {
      "cell_type": "markdown",
      "source": [
        "**With thresh=2, the rows with fewer than two non-null values will be deleted.**"
      ],
      "metadata": {
        "id": "rLfBJrv1QRaF"
      }
    },
    {
      "cell_type": "code",
      "source": [
        "newdf.na.drop(how='any',thresh=2).show()"
      ],
      "metadata": {
        "colab": {
          "base_uri": "https://localhost:8080/"
        },
        "id": "1am6HLACP1gj",
        "outputId": "2dc2b595-b7bd-4aba-a159-74ab34a8230d"
      },
      "execution_count": 21,
      "outputs": [
        {
          "output_type": "stream",
          "name": "stdout",
          "text": [
            "+---------+----+------+------------------+\n",
            "|     City| Age|Salary|Eligible for Bonus|\n",
            "+---------+----+------+------------------+\n",
            "|   Mumbai|  27| 51000|               Yes|\n",
            "|   Mumbai|  30| 52000|                No|\n",
            "|  Newyork|  27| 48000|               Yes|\n",
            "|  Newyork|  29| 66000|                No|\n",
            "|    Tokyo|  48|  null|               Yes|\n",
            "|Singapore|  33| 69000|                No|\n",
            "|  Newyork|null| 79000|               Yes|\n",
            "|   Mumbai|  38|  null|               Yes|\n",
            "|Singapore|  35| 38000|                No|\n",
            "|    Tokyo|null| 56000|                No|\n",
            "|Singapore|  35| 72000|               Yes|\n",
            "|   Mumbai|  31| 65000|               Yes|\n",
            "|Singapore|  37| 49000|                No|\n",
            "+---------+----+------+------------------+\n",
            "\n"
          ]
        }
      ]
    },
    {
      "cell_type": "code",
      "source": [
        "newdf.na.fill('Missing value','Age').show()"
      ],
      "metadata": {
        "colab": {
          "base_uri": "https://localhost:8080/"
        },
        "id": "7IyBbW4YQQ40",
        "outputId": "3f5a91d8-1837-425d-96c3-d17d559c4f26"
      },
      "execution_count": 22,
      "outputs": [
        {
          "output_type": "stream",
          "name": "stdout",
          "text": [
            "+---------+----+------+------------------+\n",
            "|     City| Age|Salary|Eligible for Bonus|\n",
            "+---------+----+------+------------------+\n",
            "|   Mumbai|  27| 51000|               Yes|\n",
            "|   Mumbai|  30| 52000|                No|\n",
            "|  Newyork|  27| 48000|               Yes|\n",
            "|  Newyork|  29| 66000|                No|\n",
            "|    Tokyo|  48|  null|               Yes|\n",
            "|Singapore|  33| 69000|                No|\n",
            "|  Newyork|null| 79000|               Yes|\n",
            "|   Mumbai|  38|  null|               Yes|\n",
            "|Singapore|  35| 38000|                No|\n",
            "|    Tokyo|null| 56000|                No|\n",
            "|Singapore|  35| 72000|               Yes|\n",
            "|   Mumbai|  31| 65000|               Yes|\n",
            "|Singapore|  37| 49000|                No|\n",
            "+---------+----+------+------------------+\n",
            "\n"
          ]
        }
      ]
    },
    {
      "cell_type": "code",
      "source": [
        "newdf.show()"
      ],
      "metadata": {
        "colab": {
          "base_uri": "https://localhost:8080/"
        },
        "id": "muG7wV8PQcK-",
        "outputId": "695dec96-3d05-4225-b2ea-07b7fa7f32bb"
      },
      "execution_count": 23,
      "outputs": [
        {
          "output_type": "stream",
          "name": "stdout",
          "text": [
            "+---------+----+------+------------------+\n",
            "|     City| Age|Salary|Eligible for Bonus|\n",
            "+---------+----+------+------------------+\n",
            "|   Mumbai|  27| 51000|               Yes|\n",
            "|   Mumbai|  30| 52000|                No|\n",
            "|  Newyork|  27| 48000|               Yes|\n",
            "|  Newyork|  29| 66000|                No|\n",
            "|    Tokyo|  48|  null|               Yes|\n",
            "|Singapore|  33| 69000|                No|\n",
            "|  Newyork|null| 79000|               Yes|\n",
            "|   Mumbai|  38|  null|               Yes|\n",
            "|Singapore|  35| 38000|                No|\n",
            "|    Tokyo|null| 56000|                No|\n",
            "|Singapore|  35| 72000|               Yes|\n",
            "|   Mumbai|  31| 65000|               Yes|\n",
            "|Singapore|  37| 49000|                No|\n",
            "+---------+----+------+------------------+\n",
            "\n"
          ]
        }
      ]
    },
    {
      "cell_type": "markdown",
      "source": [
        "**Imputation**"
      ],
      "metadata": {
        "id": "Qe71E56TQ10Z"
      }
    },
    {
      "cell_type": "code",
      "source": [
        "from pyspark.ml.feature import Imputer"
      ],
      "metadata": {
        "id": "PpFbvAmxQnqW"
      },
      "execution_count": 24,
      "outputs": []
    },
    {
      "cell_type": "code",
      "source": [
        "imputer = Imputer(\n",
        "    inputCols=['Age','Salary'],\n",
        "    outputCols=['{}_imputed'.format(c) for c in ['Age','Salary']]\n",
        "\n",
        ").setStrategy('mean')"
      ],
      "metadata": {
        "id": "GY2SXXqWQ6UR"
      },
      "execution_count": 25,
      "outputs": []
    },
    {
      "cell_type": "code",
      "source": [
        "newdf.show()"
      ],
      "metadata": {
        "colab": {
          "base_uri": "https://localhost:8080/"
        },
        "id": "4d_dJEkERRXB",
        "outputId": "81bab5b4-5a16-4bd9-e35f-2f95aa80320d"
      },
      "execution_count": 26,
      "outputs": [
        {
          "output_type": "stream",
          "name": "stdout",
          "text": [
            "+---------+----+------+------------------+\n",
            "|     City| Age|Salary|Eligible for Bonus|\n",
            "+---------+----+------+------------------+\n",
            "|   Mumbai|  27| 51000|               Yes|\n",
            "|   Mumbai|  30| 52000|                No|\n",
            "|  Newyork|  27| 48000|               Yes|\n",
            "|  Newyork|  29| 66000|                No|\n",
            "|    Tokyo|  48|  null|               Yes|\n",
            "|Singapore|  33| 69000|                No|\n",
            "|  Newyork|null| 79000|               Yes|\n",
            "|   Mumbai|  38|  null|               Yes|\n",
            "|Singapore|  35| 38000|                No|\n",
            "|    Tokyo|null| 56000|                No|\n",
            "|Singapore|  35| 72000|               Yes|\n",
            "|   Mumbai|  31| 65000|               Yes|\n",
            "|Singapore|  37| 49000|                No|\n",
            "+---------+----+------+------------------+\n",
            "\n"
          ]
        }
      ]
    },
    {
      "cell_type": "code",
      "source": [
        "new = imputer.fit(newdf).transform(newdf)\n",
        "new.show()"
      ],
      "metadata": {
        "colab": {
          "base_uri": "https://localhost:8080/"
        },
        "id": "BqyVpJegRj88",
        "outputId": "d17ae0a4-d235-410d-dea2-b58e384b5689"
      },
      "execution_count": 27,
      "outputs": [
        {
          "output_type": "stream",
          "name": "stdout",
          "text": [
            "+---------+----+------+------------------+-----------+--------------+\n",
            "|     City| Age|Salary|Eligible for Bonus|Age_imputed|Salary_imputed|\n",
            "+---------+----+------+------------------+-----------+--------------+\n",
            "|   Mumbai|  27| 51000|               Yes|         27|         51000|\n",
            "|   Mumbai|  30| 52000|                No|         30|         52000|\n",
            "|  Newyork|  27| 48000|               Yes|         27|         48000|\n",
            "|  Newyork|  29| 66000|                No|         29|         66000|\n",
            "|    Tokyo|  48|  null|               Yes|         48|         58636|\n",
            "|Singapore|  33| 69000|                No|         33|         69000|\n",
            "|  Newyork|null| 79000|               Yes|         33|         79000|\n",
            "|   Mumbai|  38|  null|               Yes|         38|         58636|\n",
            "|Singapore|  35| 38000|                No|         35|         38000|\n",
            "|    Tokyo|null| 56000|                No|         33|         56000|\n",
            "|Singapore|  35| 72000|               Yes|         35|         72000|\n",
            "|   Mumbai|  31| 65000|               Yes|         31|         65000|\n",
            "|Singapore|  37| 49000|                No|         37|         49000|\n",
            "+---------+----+------+------------------+-----------+--------------+\n",
            "\n"
          ]
        }
      ]
    },
    {
      "cell_type": "markdown",
      "source": [
        "**FILTER**"
      ],
      "metadata": {
        "id": "P1fAy7a8R079"
      }
    },
    {
      "cell_type": "code",
      "source": [
        "new.filter('Salary_imputed>=50000').show()"
      ],
      "metadata": {
        "colab": {
          "base_uri": "https://localhost:8080/"
        },
        "id": "9aU2P3N3RniL",
        "outputId": "676518e8-a93a-4b8a-dd92-381c76313ecb"
      },
      "execution_count": 28,
      "outputs": [
        {
          "output_type": "stream",
          "name": "stdout",
          "text": [
            "+---------+----+------+------------------+-----------+--------------+\n",
            "|     City| Age|Salary|Eligible for Bonus|Age_imputed|Salary_imputed|\n",
            "+---------+----+------+------------------+-----------+--------------+\n",
            "|   Mumbai|  27| 51000|               Yes|         27|         51000|\n",
            "|   Mumbai|  30| 52000|                No|         30|         52000|\n",
            "|  Newyork|  29| 66000|                No|         29|         66000|\n",
            "|    Tokyo|  48|  null|               Yes|         48|         58636|\n",
            "|Singapore|  33| 69000|                No|         33|         69000|\n",
            "|  Newyork|null| 79000|               Yes|         33|         79000|\n",
            "|   Mumbai|  38|  null|               Yes|         38|         58636|\n",
            "|    Tokyo|null| 56000|                No|         33|         56000|\n",
            "|Singapore|  35| 72000|               Yes|         35|         72000|\n",
            "|   Mumbai|  31| 65000|               Yes|         31|         65000|\n",
            "+---------+----+------+------------------+-----------+--------------+\n",
            "\n"
          ]
        }
      ]
    },
    {
      "cell_type": "code",
      "source": [
        "new.filter('Salary_imputed>=50000').select(['Age_imputed','Age']).show()"
      ],
      "metadata": {
        "colab": {
          "base_uri": "https://localhost:8080/"
        },
        "id": "ow1uKvksRrIh",
        "outputId": "553e0b72-b2bc-4f7c-96d9-3c408c8a4341"
      },
      "execution_count": 29,
      "outputs": [
        {
          "output_type": "stream",
          "name": "stdout",
          "text": [
            "+-----------+----+\n",
            "|Age_imputed| Age|\n",
            "+-----------+----+\n",
            "|         27|  27|\n",
            "|         30|  30|\n",
            "|         29|  29|\n",
            "|         48|  48|\n",
            "|         33|  33|\n",
            "|         33|null|\n",
            "|         38|  38|\n",
            "|         33|null|\n",
            "|         35|  35|\n",
            "|         31|  31|\n",
            "+-----------+----+\n",
            "\n"
          ]
        }
      ]
    },
    {
      "cell_type": "code",
      "source": [
        "new.filter((new['Salary_imputed']>=50000) & (new['Salary_imputed']<=58000)).show()"
      ],
      "metadata": {
        "colab": {
          "base_uri": "https://localhost:8080/"
        },
        "id": "GEXOD7VbR7cs",
        "outputId": "f0750720-b90e-41c3-cc08-5e775be6b02c"
      },
      "execution_count": 30,
      "outputs": [
        {
          "output_type": "stream",
          "name": "stdout",
          "text": [
            "+------+----+------+------------------+-----------+--------------+\n",
            "|  City| Age|Salary|Eligible for Bonus|Age_imputed|Salary_imputed|\n",
            "+------+----+------+------------------+-----------+--------------+\n",
            "|Mumbai|  27| 51000|               Yes|         27|         51000|\n",
            "|Mumbai|  30| 52000|                No|         30|         52000|\n",
            "| Tokyo|null| 56000|                No|         33|         56000|\n",
            "+------+----+------+------------------+-----------+--------------+\n",
            "\n"
          ]
        }
      ]
    },
    {
      "cell_type": "markdown",
      "source": [
        "**Groupby and aggregate functions**"
      ],
      "metadata": {
        "id": "BdsqReizSJM8"
      }
    },
    {
      "cell_type": "code",
      "source": [
        "new = spark.read.csv('/content/salary22.csv',header=True,inferSchema=True)\n",
        "new.show()"
      ],
      "metadata": {
        "colab": {
          "base_uri": "https://localhost:8080/"
        },
        "id": "Mp2GIUZeR-3i",
        "outputId": "f3200123-8a20-49d5-a3f0-7a51209aaf8c"
      },
      "execution_count": 31,
      "outputs": [
        {
          "output_type": "stream",
          "name": "stdout",
          "text": [
            "+--------+--------------+------+----+\n",
            "|    Name|    Department|Salary| _c3|\n",
            "+--------+--------------+------+----+\n",
            "|Thahseer|data scientist| 30000|null|\n",
            "|   Arjun|          Mern| 15000|null|\n",
            "|Thahseer|           IOT| 20000|null|\n",
            "|   Arjun|          Mean| 13000|null|\n",
            "|   Jerin|        Golang| 18000|null|\n",
            "|   Jerin|        Golang| 19000|null|\n",
            "|  Rashid|          Mern| 12000|null|\n",
            "|  Rashid|          Mean| 10000|null|\n",
            "+--------+--------------+------+----+\n",
            "\n"
          ]
        }
      ]
    },
    {
      "cell_type": "code",
      "source": [
        "new.groupBy('Name').sum()\n",
        "new.show()"
      ],
      "metadata": {
        "colab": {
          "base_uri": "https://localhost:8080/"
        },
        "id": "Vx1rhjSPSQMz",
        "outputId": "bc2ee123-33b9-4f08-be1e-01d0fb39b203"
      },
      "execution_count": 32,
      "outputs": [
        {
          "output_type": "stream",
          "name": "stdout",
          "text": [
            "+--------+--------------+------+----+\n",
            "|    Name|    Department|Salary| _c3|\n",
            "+--------+--------------+------+----+\n",
            "|Thahseer|data scientist| 30000|null|\n",
            "|   Arjun|          Mern| 15000|null|\n",
            "|Thahseer|           IOT| 20000|null|\n",
            "|   Arjun|          Mean| 13000|null|\n",
            "|   Jerin|        Golang| 18000|null|\n",
            "|   Jerin|        Golang| 19000|null|\n",
            "|  Rashid|          Mern| 12000|null|\n",
            "|  Rashid|          Mean| 10000|null|\n",
            "+--------+--------------+------+----+\n",
            "\n"
          ]
        }
      ]
    },
    {
      "cell_type": "code",
      "source": [
        "new = new.groupBy('Department').sum()\n",
        "new.show()"
      ],
      "metadata": {
        "colab": {
          "base_uri": "https://localhost:8080/"
        },
        "id": "nq1YZ4WCSUB4",
        "outputId": "33e89936-a102-4bd4-879c-4df009ca69fd"
      },
      "execution_count": 33,
      "outputs": [
        {
          "output_type": "stream",
          "name": "stdout",
          "text": [
            "+--------------+-----------+\n",
            "|    Department|sum(Salary)|\n",
            "+--------------+-----------+\n",
            "|data scientist|      30000|\n",
            "|           IOT|      20000|\n",
            "|          Mean|      23000|\n",
            "|          Mern|      27000|\n",
            "|        Golang|      37000|\n",
            "+--------------+-----------+\n",
            "\n"
          ]
        }
      ]
    },
    {
      "cell_type": "code",
      "source": [
        "new = new.groupBy(\"Department\").count()\n",
        "new.show()"
      ],
      "metadata": {
        "colab": {
          "base_uri": "https://localhost:8080/"
        },
        "id": "Ub91z_UbSWV0",
        "outputId": "1ceee840-e40c-4700-d1bc-5ef55c2b7e53"
      },
      "execution_count": 34,
      "outputs": [
        {
          "output_type": "stream",
          "name": "stdout",
          "text": [
            "+--------------+-----+\n",
            "|    Department|count|\n",
            "+--------------+-----+\n",
            "|data scientist|    1|\n",
            "|           IOT|    1|\n",
            "|          Mean|    1|\n",
            "|          Mern|    1|\n",
            "|        Golang|    1|\n",
            "+--------------+-----+\n",
            "\n"
          ]
        }
      ]
    },
    {
      "cell_type": "code",
      "source": [
        "new.columns"
      ],
      "metadata": {
        "colab": {
          "base_uri": "https://localhost:8080/"
        },
        "id": "RIbR__QLSZBN",
        "outputId": "c04d954c-feef-4d2d-c93e-bedd2d2c7875"
      },
      "execution_count": 35,
      "outputs": [
        {
          "output_type": "execute_result",
          "data": {
            "text/plain": [
              "['Department', 'count']"
            ]
          },
          "metadata": {},
          "execution_count": 35
        }
      ]
    },
    {
      "cell_type": "markdown",
      "source": [
        "**If I want to combine the two input features into one, I can.**"
      ],
      "metadata": {
        "id": "MhZXbhwtS0ki"
      }
    },
    {
      "cell_type": "code",
      "source": [
        "data = spark.read.csv('/content/New_set.csv',header=True,inferSchema=True)\n",
        "data.show()"
      ],
      "metadata": {
        "colab": {
          "base_uri": "https://localhost:8080/"
        },
        "id": "5-egvw_PSjWV",
        "outputId": "66c70d80-dacb-4133-99ce-06cf99d1730a"
      },
      "execution_count": 36,
      "outputs": [
        {
          "output_type": "stream",
          "name": "stdout",
          "text": [
            "+---------+----+------+------------------+\n",
            "|     City| Age|Salary|Eligible for Bonus|\n",
            "+---------+----+------+------------------+\n",
            "|   Mumbai|  27| 51000|               Yes|\n",
            "|   Mumbai|  30| 52000|                No|\n",
            "|  Newyork|  27| 48000|               Yes|\n",
            "|  Newyork|  29| 66000|                No|\n",
            "|    Tokyo|  48|  null|               Yes|\n",
            "|Singapore|  33| 69000|                No|\n",
            "|  Newyork|null| 79000|               Yes|\n",
            "|   Mumbai|  38|  null|               Yes|\n",
            "|Singapore|  35| 38000|                No|\n",
            "|    Tokyo|null| 56000|                No|\n",
            "|Singapore|  35| 72000|               Yes|\n",
            "|   Mumbai|  31| 65000|               Yes|\n",
            "|Singapore|  37| 49000|                No|\n",
            "+---------+----+------+------------------+\n",
            "\n"
          ]
        }
      ]
    },
    {
      "cell_type": "code",
      "source": [
        "from pyspark.ml.feature import VectorAssembler\n",
        "featureassembler=VectorAssembler(inputCols=[\"Age\",\"Salary\"],outputCol=\"Independent Features\")\n",
        "output = featureassembler.transform(data)\n",
        "output\n"
      ],
      "metadata": {
        "colab": {
          "base_uri": "https://localhost:8080/"
        },
        "id": "DuR53vRuTFPo",
        "outputId": "88564739-2817-45ff-a1d0-8e5327dfc60c"
      },
      "execution_count": 37,
      "outputs": [
        {
          "output_type": "execute_result",
          "data": {
            "text/plain": [
              "DataFrame[City: string, Age: int, Salary: int, Eligible for Bonus: string, Independent Features: vector]"
            ]
          },
          "metadata": {},
          "execution_count": 37
        }
      ]
    },
    {
      "cell_type": "code",
      "source": [
        "finalized_data=output.select(\"Independent Features\",\"Salary\")\n",
        "finalized_data"
      ],
      "metadata": {
        "colab": {
          "base_uri": "https://localhost:8080/"
        },
        "id": "EzVeUMesTHZP",
        "outputId": "5b97f858-7821-42eb-ff03-9d4d46fed35d"
      },
      "execution_count": 38,
      "outputs": [
        {
          "output_type": "execute_result",
          "data": {
            "text/plain": [
              "DataFrame[Independent Features: vector, Salary: int]"
            ]
          },
          "metadata": {},
          "execution_count": 38
        }
      ]
    }
  ]
}